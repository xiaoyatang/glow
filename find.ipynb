{
 "cells": [
  {
   "cell_type": "code",
   "execution_count": 15,
   "metadata": {},
   "outputs": [
    {
     "name": "stdout",
     "output_type": "stream",
     "text": [
      "TCGA-EJ-7315-01Z-00-DX1\n",
      "benign\n",
      "cancer\n",
      "TCGA-G9-6364-01Z-00-DX1\n",
      "benign\n",
      "cancer\n",
      "TCGA-J4-8200-01Z-00-DX1\n",
      "benign\n",
      "cancer\n",
      "TCGA-EJ-7793-01Z-00-DX1\n",
      "benign\n",
      "cancer\n",
      "TCGA-G9-6333-01Z-00-DX1\n",
      "benign\n",
      "cancer\n",
      "TCGA-EJ-7784-01Z-00-DX1\n",
      "benign\n",
      "cancer\n",
      "TCGA-G9-7522-01Z-00-DX1\n",
      "benign\n",
      "cancer\n",
      "TCGA-G9-6385-01Z-00-DX1\n",
      "benign\n",
      "cancer\n",
      "TCGA-EJ-7314-01Z-00-DX1\n",
      "benign\n",
      "cancer\n",
      "TCGA-G9-6384-01Z-00-DX1\n",
      "benign\n",
      "cancer\n",
      "TCGA-HC-A8D1-01Z-00-DX1\n",
      "benign\n",
      "cancer\n",
      "TCGA-EJ-7123-01Z-00-DX1\n",
      "benign\n",
      "cancer\n",
      "TCGA-G9-6329-01Z-00-DX1\n",
      "benign\n",
      "cancer\n",
      "TCGA-G9-6494-01Z-00-DX1\n",
      "benign\n",
      "cancer\n",
      "TCGA-G9-6363-01Z-00-DX1\n",
      "benign\n",
      "cancer\n",
      "TCGA-EJ-7328-01Z-00-DX1\n",
      "benign\n",
      "cancer\n",
      "TCGA-HC-8216-01Z-00-DX1\n",
      "benign\n",
      "cancer\n",
      "TCGA-2A-A8VV-01Z-00-DX1\n",
      "benign\n",
      "cancer\n"
     ]
    }
   ],
   "source": [
    "import os\n",
    "length = []\n",
    "def search_file(start_dir):\n",
    "    os.chdir(start_dir) #change current directory to specified path\n",
    "    for each_file in os.listdir(os.curdir):\n",
    "        if os.path.isdir(each_file):\n",
    "            print(each_file)\n",
    "            search_file(each_file) #递归调用\n",
    "            os.chdir(os.pardir)\n",
    "        elif each_file.endswith('.png'):\n",
    "            length.append(1)\n",
    "start_dir = os.getcwd()\n",
    "search_file(start_dir)"
   ]
  },
  {
   "cell_type": "code",
   "execution_count": 13,
   "metadata": {},
   "outputs": [],
   "source": [
    "os.chdir(os.path.join(os.curdir,'Test_set_256x256'))"
   ]
  },
  {
   "cell_type": "code",
   "execution_count": 17,
   "metadata": {},
   "outputs": [
    {
     "name": "stdout",
     "output_type": "stream",
     "text": [
      "949\n",
      "/home/collab/u1368791/Paper_2022_Co-training/Co-training/dataset/Test_set_256x256\n"
     ]
    }
   ],
   "source": [
    "print(len(length))\n",
    "print(os.getcwd())"
   ]
  },
  {
   "cell_type": "code",
   "execution_count": 3,
   "metadata": {},
   "outputs": [
    {
     "data": {
      "text/plain": [
       "tensor([], size=(0, 256, 256))"
      ]
     },
     "execution_count": 3,
     "metadata": {},
     "output_type": "execute_result"
    }
   ],
   "source": [
    "import torch\n",
    "torch.empty((0, 256,256),dtype=torch.float32)"
   ]
  }
 ],
 "metadata": {
  "kernelspec": {
   "display_name": "Python 3.9.13 ('base': conda)",
   "language": "python",
   "name": "python3"
  },
  "language_info": {
   "codemirror_mode": {
    "name": "ipython",
    "version": 3
   },
   "file_extension": ".py",
   "mimetype": "text/x-python",
   "name": "python",
   "nbconvert_exporter": "python",
   "pygments_lexer": "ipython3",
   "version": "3.9.13"
  },
  "orig_nbformat": 4,
  "vscode": {
   "interpreter": {
    "hash": "b1e9446a32cde070a097a8a11aecee208d32a016a63e77672b984c8ea3097a75"
   }
  }
 },
 "nbformat": 4,
 "nbformat_minor": 2
}

{
 "cells": [
  {
   "cell_type": "code",
   "execution_count": 1,
   "metadata": {},
   "outputs": [
    {
     "name": "stdout",
     "output_type": "stream",
     "text": [
      "Test_set_400X400_H_my_code\n",
      "class1\n",
      ".git\n",
      "info\n",
      "hooks\n",
      "branches\n",
      "logs\n",
      "refs\n",
      "remotes\n",
      "origin\n",
      "heads\n",
      "objects\n",
      "info\n",
      "pack\n",
      "refs\n",
      "tags\n",
      "remotes\n",
      "origin\n",
      "heads\n",
      "Train_set_400x400_H_my_code\n",
      "__pycache__\n",
      "PATH\n",
      "class1\n",
      "sample\n",
      "Train_set_400x400_E_my_code\n"
     ]
    }
   ],
   "source": [
    "import os\n",
    "length = []\n",
    "def search_file(start_dir):\n",
    "    os.chdir(start_dir) #change current directory to specified path\n",
    "    for each_file in os.listdir(os.curdir):\n",
    "        if os.path.isdir(each_file):\n",
    "            print(each_file)\n",
    "            search_file(each_file) #递归调用\n",
    "            os.chdir(os.pardir)\n",
    "        elif each_file.endswith('.png'):\n",
    "            length.append(1)\n",
    "start_dir = os.getcwd()\n",
    "search_file(start_dir)"
   ]
  },
  {
   "cell_type": "code",
   "execution_count": 2,
   "metadata": {},
   "outputs": [
    {
     "ename": "FileNotFoundError",
     "evalue": "[Errno 2] No such file or directory: './Test_set_256x256'",
     "output_type": "error",
     "traceback": [
      "\u001b[0;31m---------------------------------------------------------------------------\u001b[0m",
      "\u001b[0;31mFileNotFoundError\u001b[0m                         Traceback (most recent call last)",
      "\u001b[0;32m/tmp/ipykernel_1093/2208571157.py\u001b[0m in \u001b[0;36m<module>\u001b[0;34m\u001b[0m\n\u001b[0;32m----> 1\u001b[0;31m \u001b[0mos\u001b[0m\u001b[0;34m.\u001b[0m\u001b[0mchdir\u001b[0m\u001b[0;34m(\u001b[0m\u001b[0mos\u001b[0m\u001b[0;34m.\u001b[0m\u001b[0mpath\u001b[0m\u001b[0;34m.\u001b[0m\u001b[0mjoin\u001b[0m\u001b[0;34m(\u001b[0m\u001b[0mos\u001b[0m\u001b[0;34m.\u001b[0m\u001b[0mcurdir\u001b[0m\u001b[0;34m,\u001b[0m\u001b[0;34m'Test_set_256x256'\u001b[0m\u001b[0;34m)\u001b[0m\u001b[0;34m)\u001b[0m\u001b[0;34m\u001b[0m\u001b[0;34m\u001b[0m\u001b[0m\n\u001b[0m",
      "\u001b[0;31mFileNotFoundError\u001b[0m: [Errno 2] No such file or directory: './Test_set_256x256'"
     ]
    }
   ],
   "source": [
    "os.chdir(os.path.join(os.curdir,'Test_set_256x256'))"
   ]
  },
  {
   "cell_type": "code",
   "execution_count": 17,
   "metadata": {},
   "outputs": [
    {
     "name": "stdout",
     "output_type": "stream",
     "text": [
      "949\n",
      "/home/collab/u1368791/Paper_2022_Co-training/Co-training/dataset/Test_set_256x256\n"
     ]
    }
   ],
   "source": [
    "print(len(length))\n",
    "print(os.getcwd())"
   ]
  },
  {
   "cell_type": "code",
   "execution_count": 3,
   "metadata": {},
   "outputs": [
    {
     "data": {
      "text/plain": [
       "tensor([], size=(0, 256, 256))"
      ]
     },
     "execution_count": 3,
     "metadata": {},
     "output_type": "execute_result"
    }
   ],
   "source": [
    "import torch\n",
    "torch.empty((0, 256,256),dtype=torch.float32)"
   ]
  }
 ],
 "metadata": {
  "kernelspec": {
   "display_name": "Python 3.9.13 ('base': conda)",
   "language": "python",
   "name": "python3"
  },
  "language_info": {
   "codemirror_mode": {
    "name": "ipython",
    "version": 3
   },
   "file_extension": ".py",
   "mimetype": "text/x-python",
   "name": "python",
   "nbconvert_exporter": "python",
   "pygments_lexer": "ipython3",
   "version": "3.9.13"
  },
  "orig_nbformat": 4,
  "vscode": {
   "interpreter": {
    "hash": "b1e9446a32cde070a097a8a11aecee208d32a016a63e77672b984c8ea3097a75"
   }
  }
 },
 "nbformat": 4,
 "nbformat_minor": 2
}
